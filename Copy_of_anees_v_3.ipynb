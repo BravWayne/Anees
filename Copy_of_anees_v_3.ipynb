{
  "cells": [
    {
      "cell_type": "code",
      "execution_count": null,
      "metadata": {
        "id": "OtxVMcMwsh5x"
      },
      "outputs": [],
      "source": [
        "import requests\n",
        "import json\n",
        "\n",
        "def anees_bot():\n",
        "  url = \"https://experimental.willow.vectara.io/v1/chat/completions\"\n",
        "\n",
        "  headers = {\n",
        "  'Content-Type': 'application/json',\n",
        "  'customer-id': '750030012',\n",
        "  'x-api-key': 'API-key'\n",
        "        }\n",
        "\n",
        "  payload = json.dumps({\n",
        "    \"model\": \"gpt-3.5-turbo\",\n",
        "    \"messages\": [\n",
        "       {\n",
        "         \"role\": \"user\",\n",
        "         \"content\": input(\"\")         \n",
        "       }\n",
        "      ]\n",
        "   })\n",
        "\n",
        "  response = requests.request(\"POST\", url, headers=headers, data=payload)\n",
        "  jsonData = json.loads(response.text)[\"choices\"][0] \n",
        "  string = jsonData[\"message\"][\"content\"]\n",
        "  print(string.replace(\"AI language model\",\"anees\"))\n",
        "\n",
        "  print(anees_bot())\n",
        "\n",
        "while (str != 0):\n",
        "    print(anees_bot())\n",
        "     "
      ]
    },
    {
      "cell_type": "code",
      "source": [],
      "metadata": {
        "id": "RjhWpLCznCV7"
      },
      "execution_count": null,
      "outputs": []
    }
  ],
  "metadata": {
    "colab": {
      "provenance": []
    },
    "kernelspec": {
      "display_name": "Python 3",
      "name": "python3"
    },
    "language_info": {
      "name": "python"
    }
  },
  "nbformat": 4,
  "nbformat_minor": 0
}